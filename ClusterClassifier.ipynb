{
 "cells": [
  {
   "cell_type": "code",
   "execution_count": 1,
   "metadata": {},
   "outputs": [],
   "source": [
    "from sklearn.discriminant_analysis import LinearDiscriminantAnalysis\n",
    "from sklearn.neural_network import MLPClassifier"
   ]
  },
  {
   "cell_type": "code",
   "execution_count": null,
   "metadata": {},
   "outputs": [],
   "source": [
    "''' get the training data and each samples cluster id '''\n",
    "training_data = None\n",
    "training_clusters = None"
   ]
  },
  {
   "cell_type": "code",
   "execution_count": null,
   "metadata": {},
   "outputs": [],
   "source": [
    "# Try a linear classifier first. if linear models don't work well enough, then try a non linear\n",
    "lda = LinearDiscriminantAnalysis()"
   ]
  },
  {
   "cell_type": "code",
   "execution_count": null,
   "metadata": {},
   "outputs": [],
   "source": [
    "# if the linear models are not sufficent, then try a nonlinear classifier\n",
    "\n",
    "# NOTE: neural nets work best with normalized or standardized data. would need to preprocess before inference.\n",
    "    # from sklearn.preprocessing import StandardScaler  \n",
    "    # scaler = StandardScaler()  \n",
    "    # # Don't cheat - fit only on training data\n",
    "    # scaler.fit(X_train)  \n",
    "    # X_train = scaler.transform(X_train)  \n",
    "    # # apply same transformation to test data\n",
    "    # X_test = scaler.transform(X_test)  \n",
    "\n",
    "mlp = MLPClassifier()"
   ]
  }
 ],
 "metadata": {
  "kernelspec": {
   "display_name": "Python 3",
   "language": "python",
   "name": "python3"
  },
  "language_info": {
   "codemirror_mode": {
    "name": "ipython",
    "version": 3
   },
   "file_extension": ".py",
   "mimetype": "text/x-python",
   "name": "python",
   "nbconvert_exporter": "python",
   "pygments_lexer": "ipython3",
   "version": "3.11.6"
  }
 },
 "nbformat": 4,
 "nbformat_minor": 2
}
